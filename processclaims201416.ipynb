{
 "cells": [
  {
   "cell_type": "code",
   "execution_count": 60,
   "metadata": {},
   "outputs": [],
   "source": [
    "import matplotlib.pyplot as plt\n",
    "import numpy as np\n",
    "import pandas as pd\n",
    "from sklearn.model_selection import train_test_split\n",
    "from sklearn.linear_model import LinearRegression\n",
    "from sklearn.naive_bayes import GaussianNB\n",
    "from sklearn.neighbors import KNeighborsClassifier\n",
    "from sklearn.svm import SVR\n",
    "from sklearn.tree import DecisionTreeRegressor\n",
    "from sklearn.ensemble import RandomForestClassifier\n",
    "from sklearn.linear_model import Ridge, Lasso, SGDRegressor, BayesianRidge, LassoLars, ARDRegression, PassiveAggressiveRegressor, TheilSenRegressor\n",
    "from sklearn.ensemble import GradientBoostingRegressor\n",
    "from sklearn.preprocessing import PolynomialFeatures\n",
    "from sklearn.metrics import accuracy_score\n",
    "from sklearn.metrics import mean_squared_error\n",
    "from sklearn import linear_model\n",
    "from sklearn import svm\n",
    "from math import sqrt\n",
    "from sklearn.model_selection import ShuffleSplit\n",
    "from sklearn.model_selection import cross_val_score\n",
    "from sklearn.model_selection import GridSearchCV"
   ]
  },
  {
   "cell_type": "code",
   "execution_count": 50,
   "metadata": {},
   "outputs": [],
   "source": [
    "###loads the data\n",
    "data=pd.read_csv(r'D:\\processUSPTO_201416_comp.txt', sep='\\t')\n"
   ]
  },
  {
   "cell_type": "code",
   "execution_count": 51,
   "metadata": {},
   "outputs": [
    {
     "data": {
      "text/plain": [
       "(3710, 36)"
      ]
     },
     "execution_count": 51,
     "metadata": {},
     "output_type": "execute_result"
    }
   ],
   "source": [
    "data.shape"
   ]
  },
  {
   "cell_type": "code",
   "execution_count": 52,
   "metadata": {},
   "outputs": [
    {
     "data": {
      "text/html": [
       "<div>\n",
       "<style scoped>\n",
       "    .dataframe tbody tr th:only-of-type {\n",
       "        vertical-align: middle;\n",
       "    }\n",
       "\n",
       "    .dataframe tbody tr th {\n",
       "        vertical-align: top;\n",
       "    }\n",
       "\n",
       "    .dataframe thead th {\n",
       "        text-align: right;\n",
       "    }\n",
       "</style>\n",
       "<table border=\"1\" class=\"dataframe\">\n",
       "  <thead>\n",
       "    <tr style=\"text-align: right;\">\n",
       "      <th></th>\n",
       "      <th>process_share</th>\n",
       "      <th>prioritydate_year</th>\n",
       "      <th>parent</th>\n",
       "      <th>family_size</th>\n",
       "      <th>originality</th>\n",
       "      <th>orig_count_cited</th>\n",
       "      <th>orig_count_classes</th>\n",
       "      <th>generality</th>\n",
       "      <th>gen_count_citing</th>\n",
       "      <th>gen_count_classes</th>\n",
       "      <th>...</th>\n",
       "      <th>firm</th>\n",
       "      <th>individual</th>\n",
       "      <th>gov</th>\n",
       "      <th>Chemistry</th>\n",
       "      <th>EE</th>\n",
       "      <th>Instru</th>\n",
       "      <th>ME</th>\n",
       "      <th>AI</th>\n",
       "      <th>review_day</th>\n",
       "      <th>assignee_age</th>\n",
       "    </tr>\n",
       "  </thead>\n",
       "  <tbody>\n",
       "    <tr>\n",
       "      <th>0</th>\n",
       "      <td>0.000</td>\n",
       "      <td>2014</td>\n",
       "      <td>1</td>\n",
       "      <td>1</td>\n",
       "      <td>0.238</td>\n",
       "      <td>30</td>\n",
       "      <td>30</td>\n",
       "      <td>0.0</td>\n",
       "      <td>1</td>\n",
       "      <td>1</td>\n",
       "      <td>...</td>\n",
       "      <td>1</td>\n",
       "      <td>0</td>\n",
       "      <td>0</td>\n",
       "      <td>0</td>\n",
       "      <td>0</td>\n",
       "      <td>0</td>\n",
       "      <td>1</td>\n",
       "      <td>0</td>\n",
       "      <td>392</td>\n",
       "      <td>0.0</td>\n",
       "    </tr>\n",
       "    <tr>\n",
       "      <th>1</th>\n",
       "      <td>0.000</td>\n",
       "      <td>2014</td>\n",
       "      <td>0</td>\n",
       "      <td>2</td>\n",
       "      <td>0.593</td>\n",
       "      <td>9</td>\n",
       "      <td>9</td>\n",
       "      <td>0.0</td>\n",
       "      <td>1</td>\n",
       "      <td>1</td>\n",
       "      <td>...</td>\n",
       "      <td>0</td>\n",
       "      <td>1</td>\n",
       "      <td>0</td>\n",
       "      <td>0</td>\n",
       "      <td>0</td>\n",
       "      <td>1</td>\n",
       "      <td>0</td>\n",
       "      <td>0</td>\n",
       "      <td>125</td>\n",
       "      <td>0.0</td>\n",
       "    </tr>\n",
       "    <tr>\n",
       "      <th>2</th>\n",
       "      <td>1.000</td>\n",
       "      <td>2014</td>\n",
       "      <td>1</td>\n",
       "      <td>1</td>\n",
       "      <td>0.920</td>\n",
       "      <td>20</td>\n",
       "      <td>20</td>\n",
       "      <td>0.0</td>\n",
       "      <td>1</td>\n",
       "      <td>1</td>\n",
       "      <td>...</td>\n",
       "      <td>1</td>\n",
       "      <td>0</td>\n",
       "      <td>0</td>\n",
       "      <td>1</td>\n",
       "      <td>0</td>\n",
       "      <td>0</td>\n",
       "      <td>0</td>\n",
       "      <td>0</td>\n",
       "      <td>788</td>\n",
       "      <td>0.0</td>\n",
       "    </tr>\n",
       "    <tr>\n",
       "      <th>3</th>\n",
       "      <td>0.333</td>\n",
       "      <td>2014</td>\n",
       "      <td>0</td>\n",
       "      <td>4</td>\n",
       "      <td>0.667</td>\n",
       "      <td>6</td>\n",
       "      <td>6</td>\n",
       "      <td>0.0</td>\n",
       "      <td>6</td>\n",
       "      <td>4</td>\n",
       "      <td>...</td>\n",
       "      <td>1</td>\n",
       "      <td>0</td>\n",
       "      <td>0</td>\n",
       "      <td>0</td>\n",
       "      <td>0</td>\n",
       "      <td>1</td>\n",
       "      <td>0</td>\n",
       "      <td>0</td>\n",
       "      <td>382</td>\n",
       "      <td>0.0</td>\n",
       "    </tr>\n",
       "  </tbody>\n",
       "</table>\n",
       "<p>4 rows × 36 columns</p>\n",
       "</div>"
      ],
      "text/plain": [
       "   process_share  prioritydate_year  parent  family_size  originality  \\\n",
       "0          0.000               2014       1            1        0.238   \n",
       "1          0.000               2014       0            2        0.593   \n",
       "2          1.000               2014       1            1        0.920   \n",
       "3          0.333               2014       0            4        0.667   \n",
       "\n",
       "   orig_count_cited  orig_count_classes  generality  gen_count_citing  \\\n",
       "0                30                  30         0.0                 1   \n",
       "1                 9                   9         0.0                 1   \n",
       "2                20                  20         0.0                 1   \n",
       "3                 6                   6         0.0                 6   \n",
       "\n",
       "   gen_count_classes  ...  firm  individual  gov  Chemistry  EE  Instru  ME  \\\n",
       "0                  1  ...     1           0    0          0   0       0   1   \n",
       "1                  1  ...     0           1    0          0   0       1   0   \n",
       "2                  1  ...     1           0    0          1   0       0   0   \n",
       "3                  4  ...     1           0    0          0   0       1   0   \n",
       "\n",
       "   AI  review_day  assignee_age  \n",
       "0   0         392           0.0  \n",
       "1   0         125           0.0  \n",
       "2   0         788           0.0  \n",
       "3   0         382           0.0  \n",
       "\n",
       "[4 rows x 36 columns]"
      ]
     },
     "execution_count": 52,
     "metadata": {},
     "output_type": "execute_result"
    }
   ],
   "source": [
    "data.head(4)"
   ]
  },
  {
   "cell_type": "code",
   "execution_count": 53,
   "metadata": {},
   "outputs": [
    {
     "data": {
      "text/html": [
       "<div>\n",
       "<style scoped>\n",
       "    .dataframe tbody tr th:only-of-type {\n",
       "        vertical-align: middle;\n",
       "    }\n",
       "\n",
       "    .dataframe tbody tr th {\n",
       "        vertical-align: top;\n",
       "    }\n",
       "\n",
       "    .dataframe thead th {\n",
       "        text-align: right;\n",
       "    }\n",
       "</style>\n",
       "<table border=\"1\" class=\"dataframe\">\n",
       "  <thead>\n",
       "    <tr style=\"text-align: right;\">\n",
       "      <th></th>\n",
       "      <th>process_share</th>\n",
       "      <th>prioritydate_year</th>\n",
       "      <th>parent</th>\n",
       "      <th>family_size</th>\n",
       "      <th>originality</th>\n",
       "      <th>orig_count_cited</th>\n",
       "      <th>orig_count_classes</th>\n",
       "      <th>generality</th>\n",
       "      <th>gen_count_citing</th>\n",
       "      <th>gen_count_classes</th>\n",
       "      <th>...</th>\n",
       "      <th>firm</th>\n",
       "      <th>individual</th>\n",
       "      <th>gov</th>\n",
       "      <th>Chemistry</th>\n",
       "      <th>EE</th>\n",
       "      <th>Instru</th>\n",
       "      <th>ME</th>\n",
       "      <th>AI</th>\n",
       "      <th>review_day</th>\n",
       "      <th>assignee_age</th>\n",
       "    </tr>\n",
       "  </thead>\n",
       "  <tbody>\n",
       "    <tr>\n",
       "      <th>3706</th>\n",
       "      <td>0.000</td>\n",
       "      <td>2014</td>\n",
       "      <td>1</td>\n",
       "      <td>1</td>\n",
       "      <td>0.722</td>\n",
       "      <td>12</td>\n",
       "      <td>12</td>\n",
       "      <td>0.0</td>\n",
       "      <td>3</td>\n",
       "      <td>1</td>\n",
       "      <td>...</td>\n",
       "      <td>0</td>\n",
       "      <td>1</td>\n",
       "      <td>0</td>\n",
       "      <td>0</td>\n",
       "      <td>0</td>\n",
       "      <td>0</td>\n",
       "      <td>0</td>\n",
       "      <td>0</td>\n",
       "      <td>455</td>\n",
       "      <td>0.0</td>\n",
       "    </tr>\n",
       "    <tr>\n",
       "      <th>3707</th>\n",
       "      <td>0.000</td>\n",
       "      <td>2014</td>\n",
       "      <td>1</td>\n",
       "      <td>1</td>\n",
       "      <td>0.000</td>\n",
       "      <td>10</td>\n",
       "      <td>10</td>\n",
       "      <td>0.0</td>\n",
       "      <td>2</td>\n",
       "      <td>2</td>\n",
       "      <td>...</td>\n",
       "      <td>0</td>\n",
       "      <td>1</td>\n",
       "      <td>0</td>\n",
       "      <td>0</td>\n",
       "      <td>1</td>\n",
       "      <td>0</td>\n",
       "      <td>0</td>\n",
       "      <td>0</td>\n",
       "      <td>649</td>\n",
       "      <td>2.1</td>\n",
       "    </tr>\n",
       "    <tr>\n",
       "      <th>3708</th>\n",
       "      <td>0.500</td>\n",
       "      <td>2014</td>\n",
       "      <td>1</td>\n",
       "      <td>1</td>\n",
       "      <td>0.124</td>\n",
       "      <td>15</td>\n",
       "      <td>15</td>\n",
       "      <td>0.0</td>\n",
       "      <td>1</td>\n",
       "      <td>1</td>\n",
       "      <td>...</td>\n",
       "      <td>1</td>\n",
       "      <td>0</td>\n",
       "      <td>0</td>\n",
       "      <td>0</td>\n",
       "      <td>0</td>\n",
       "      <td>0</td>\n",
       "      <td>0</td>\n",
       "      <td>0</td>\n",
       "      <td>223</td>\n",
       "      <td>0.0</td>\n",
       "    </tr>\n",
       "    <tr>\n",
       "      <th>3709</th>\n",
       "      <td>0.333</td>\n",
       "      <td>2015</td>\n",
       "      <td>1</td>\n",
       "      <td>13</td>\n",
       "      <td>0.828</td>\n",
       "      <td>16</td>\n",
       "      <td>16</td>\n",
       "      <td>0.0</td>\n",
       "      <td>4</td>\n",
       "      <td>2</td>\n",
       "      <td>...</td>\n",
       "      <td>1</td>\n",
       "      <td>0</td>\n",
       "      <td>0</td>\n",
       "      <td>0</td>\n",
       "      <td>1</td>\n",
       "      <td>0</td>\n",
       "      <td>0</td>\n",
       "      <td>0</td>\n",
       "      <td>209</td>\n",
       "      <td>0.0</td>\n",
       "    </tr>\n",
       "  </tbody>\n",
       "</table>\n",
       "<p>4 rows × 36 columns</p>\n",
       "</div>"
      ],
      "text/plain": [
       "      process_share  prioritydate_year  parent  family_size  originality  \\\n",
       "3706          0.000               2014       1            1        0.722   \n",
       "3707          0.000               2014       1            1        0.000   \n",
       "3708          0.500               2014       1            1        0.124   \n",
       "3709          0.333               2015       1           13        0.828   \n",
       "\n",
       "      orig_count_cited  orig_count_classes  generality  gen_count_citing  \\\n",
       "3706                12                  12         0.0                 3   \n",
       "3707                10                  10         0.0                 2   \n",
       "3708                15                  15         0.0                 1   \n",
       "3709                16                  16         0.0                 4   \n",
       "\n",
       "      gen_count_classes  ...  firm  individual  gov  Chemistry  EE  Instru  \\\n",
       "3706                  1  ...     0           1    0          0   0       0   \n",
       "3707                  2  ...     0           1    0          0   1       0   \n",
       "3708                  1  ...     1           0    0          0   0       0   \n",
       "3709                  2  ...     1           0    0          0   1       0   \n",
       "\n",
       "      ME  AI  review_day  assignee_age  \n",
       "3706   0   0         455           0.0  \n",
       "3707   0   0         649           2.1  \n",
       "3708   0   0         223           0.0  \n",
       "3709   0   0         209           0.0  \n",
       "\n",
       "[4 rows x 36 columns]"
      ]
     },
     "execution_count": 53,
     "metadata": {},
     "output_type": "execute_result"
    }
   ],
   "source": [
    "data.tail(4)"
   ]
  },
  {
   "cell_type": "code",
   "execution_count": 43,
   "metadata": {},
   "outputs": [],
   "source": [
    "#keep only the complete cases\n",
    "#data=data.dropna()"
   ]
  },
  {
   "cell_type": "code",
   "execution_count": 54,
   "metadata": {},
   "outputs": [],
   "source": [
    "#defines the relevant dimensions and the target\n",
    "X=data.iloc[:,1:36]\n",
    "y=data['process_share']"
   ]
  },
  {
   "cell_type": "code",
   "execution_count": 55,
   "metadata": {},
   "outputs": [],
   "source": [
    "#defines a training sample with 60% of the data\n",
    "X_train, X_test, y_train, y_test=train_test_split(X, y, test_size=0.2, random_state=15)"
   ]
  },
  {
   "cell_type": "code",
   "execution_count": 58,
   "metadata": {},
   "outputs": [
    {
     "name": "stdout",
     "output_type": "stream",
     "text": [
      "LinearRegression: 0.2956259727138504\n",
      "Ridge: 0.2955843226808237\n",
      "Lasso: 0.3107983508590411\n"
     ]
    },
    {
     "name": "stderr",
     "output_type": "stream",
     "text": [
      "C:\\Users\\FBS\\Anaconda3\\lib\\site-packages\\sklearn\\linear_model\\_coordinate_descent.py:529: ConvergenceWarning: Objective did not converge. You might want to increase the number of iterations. Duality gap: 94.74829541057866, tolerance: 0.033006518758355786\n",
      "  model = cd_fast.enet_coordinate_descent(\n"
     ]
    },
    {
     "name": "stdout",
     "output_type": "stream",
     "text": [
      "GradientBoostingRegressor: 0.27694241010381593\n",
      "DecisionTreeRegressor: 0.40110737550515835\n",
      "SVR: 0.3099575736082594\n",
      "SGDRegressor: 4.847304069500345e+17\n",
      "BayesianRidge: 0.2952951359317531\n",
      "LassoLars: 0.322968846899421\n",
      "ARDRegression: 0.3065041124909322\n",
      "PassiveAggressiveRegressor: 0.6053712369663092\n",
      "TheilSenRegressor: 0.5250188197811966\n"
     ]
    }
   ],
   "source": [
    "for Model in [LinearRegression, Ridge, Lasso, GradientBoostingRegressor, DecisionTreeRegressor, SVR,\n",
    "             SGDRegressor, BayesianRidge, LassoLars, ARDRegression, PassiveAggressiveRegressor, TheilSenRegressor]:\n",
    "    clf=Model().fit(X_train, y_train)\n",
    "    y_pred=clf.predict(X_test)\n",
    "    mse = mean_squared_error(y_test, y_pred)\n",
    "    rmse = sqrt(mse)\n",
    "    #print(rmse)\n",
    "    print('%s: %s' % (Model.__name__, rmse))"
   ]
  },
  {
   "cell_type": "code",
   "execution_count": 62,
   "metadata": {},
   "outputs": [],
   "source": [
    "#10th fold CV with shuffling\n",
    "cv = ShuffleSplit(n_splits=10, random_state=15)"
   ]
  },
  {
   "cell_type": "code",
   "execution_count": 1,
   "metadata": {},
   "outputs": [],
   "source": [
    "from sklearn.model_selection import cross_val_score"
   ]
  },
  {
   "cell_type": "code",
   "execution_count": 2,
   "metadata": {},
   "outputs": [
    {
     "ename": "NameError",
     "evalue": "name 'LinearRegression' is not defined",
     "output_type": "error",
     "traceback": [
      "\u001b[1;31m---------------------------------------------------------------------------\u001b[0m",
      "\u001b[1;31mNameError\u001b[0m                                 Traceback (most recent call last)",
      "\u001b[1;32m<ipython-input-2-f4bd082a5d39>\u001b[0m in \u001b[0;36m<module>\u001b[1;34m\u001b[0m\n\u001b[0;32m      2\u001b[0m \u001b[1;31m# prepare models\u001b[0m\u001b[1;33m\u001b[0m\u001b[1;33m\u001b[0m\u001b[1;33m\u001b[0m\u001b[0m\n\u001b[0;32m      3\u001b[0m \u001b[0mmodels\u001b[0m \u001b[1;33m=\u001b[0m \u001b[1;33m[\u001b[0m\u001b[1;33m]\u001b[0m\u001b[1;33m\u001b[0m\u001b[1;33m\u001b[0m\u001b[0m\n\u001b[1;32m----> 4\u001b[1;33m \u001b[0mmodels\u001b[0m\u001b[1;33m.\u001b[0m\u001b[0mappend\u001b[0m\u001b[1;33m(\u001b[0m\u001b[1;33m(\u001b[0m\u001b[1;34m'LR'\u001b[0m\u001b[1;33m,\u001b[0m \u001b[0mLinearRegression\u001b[0m\u001b[1;33m(\u001b[0m\u001b[1;33m)\u001b[0m\u001b[1;33m)\u001b[0m\u001b[1;33m)\u001b[0m\u001b[1;33m\u001b[0m\u001b[1;33m\u001b[0m\u001b[0m\n\u001b[0m\u001b[0;32m      5\u001b[0m \u001b[0mmodels\u001b[0m\u001b[1;33m.\u001b[0m\u001b[0mappend\u001b[0m\u001b[1;33m(\u001b[0m\u001b[1;33m(\u001b[0m\u001b[1;34m'ri'\u001b[0m\u001b[1;33m,\u001b[0m \u001b[0mRidge\u001b[0m\u001b[1;33m(\u001b[0m\u001b[1;33m)\u001b[0m\u001b[1;33m)\u001b[0m\u001b[1;33m)\u001b[0m\u001b[1;33m\u001b[0m\u001b[1;33m\u001b[0m\u001b[0m\n\u001b[0;32m      6\u001b[0m \u001b[0mmodels\u001b[0m\u001b[1;33m.\u001b[0m\u001b[0mappend\u001b[0m\u001b[1;33m(\u001b[0m\u001b[1;33m(\u001b[0m\u001b[1;34m'Las'\u001b[0m\u001b[1;33m,\u001b[0m \u001b[0mLasso\u001b[0m\u001b[1;33m(\u001b[0m\u001b[1;33m)\u001b[0m\u001b[1;33m)\u001b[0m\u001b[1;33m)\u001b[0m\u001b[1;33m\u001b[0m\u001b[1;33m\u001b[0m\u001b[0m\n",
      "\u001b[1;31mNameError\u001b[0m: name 'LinearRegression' is not defined"
     ]
    }
   ],
   "source": [
    "####checks the accuracy of the difference models\n",
    "# prepare models\n",
    "models = []\n",
    "models.append(('LR', LinearRegression()))\n",
    "models.append(('ri', Ridge()))\n",
    "models.append(('Las', Lasso()))\n",
    "models.append(('grad', GradientBoostingRegressor()))\n",
    "models.append(('tree', DecisionTreeRegressor()))\n",
    "models.append(('SVM', SVR()))\n",
    "models.append(('SDG', SGDRegressor()))\n",
    "models.append(('BayesianRi', BayesianRidge()))\n",
    "models.append(('LassoLars', LassoLars()))\n",
    "models.append(('ARDRreg', ARDRegression()))\n",
    "models.append(('PAreg', PassiveAggressiveRegressor()))\n",
    "models.append(('TheilSenreg', TheilSenRegressor()))\n",
    "\n",
    "# evaluate each model in turn\n",
    "results = []\n",
    "names = []\n",
    "scoring = 'accuracy'#cross_val_score(model, data.data, data.target, cv=cv).mean()\n",
    "for name, model in models:\n",
    "\t#kfold = model_selection.KFold(n_splits=10, shuffle=True, random_state=seed) #here seeds set to 7 and 10 folds\n",
    "\tcv_results = cross_val_score(model, X, y, cv=cv)\n",
    "    #cv_results = cross_val_score(model, data.data, data.target, cv=kfold, scoring=scoring) #calls the line above for the CV\n",
    "\tresults.append(cv_results)\n",
    "\tnames.append(name)\n",
    "\tmsg = \"%s: %f (%f)\" % (name, cv_results.mean(), cv_results.std())\n",
    "\tprint(msg)"
   ]
  },
  {
   "cell_type": "code",
   "execution_count": 64,
   "metadata": {},
   "outputs": [
    {
     "name": "stdout",
     "output_type": "stream",
     "text": [
      "LR: -0.092715\n",
      "ri: -0.092703\n",
      "Las: -0.102686\n",
      "grad: -0.082010\n",
      "tree: -0.153197\n",
      "SVM: -0.100395\n",
      "SDG: -61384004670878009968748275781599232.000000\n",
      "BayesianRi: -0.092705\n",
      "LassoLars: -0.111579\n",
      "ARDRreg: -0.100998\n",
      "PAreg: -0.530430\n",
      "TheilSenreg: -0.273356\n"
     ]
    }
   ],
   "source": [
    "##gets the avg mean squared error: provides in negative but considring min the aboslute value\n",
    "val_errors = []\n",
    "#scoring = []#cross_val_score(model, data.data, data.target, cv=cv).mean()\n",
    "for name, model in models:\n",
    "\t#kfold = model_selection.KFold(n_splits=10, shuffle=True, random_state=seed) #here seeds set to 7 and 10 folds\n",
    "\terrors = np.mean(cross_val_score(model, X, \n",
    "                                     y, \n",
    "                                     scoring='neg_mean_squared_error', \n",
    "                                     #scoring='make_scorer',\n",
    "                                     cv=cv, #10  CV\n",
    "                                     n_jobs=-1))\n",
    "    #cv_results = cross_val_score(model, data.data, data.target, cv=kfold, scoring=scoring) #calls the line above for the CV\n",
    "\tval_errors.append(errors)\n",
    "\tnames.append(name)\n",
    "\tmsg = \"%s: %f\" % (name, errors)\n",
    "\tprint(msg)"
   ]
  },
  {
   "cell_type": "code",
   "execution_count": 65,
   "metadata": {},
   "outputs": [],
   "source": [
    "GBR=GradientBoostingRegressor()\n",
    "search_grid={'n_estimators':[500,1000,2000],'learning_rate':[.001,0.01,.1],'max_depth':[1,2,4],'subsample':[.5,.75,1],'random_state':[1]}\n",
    "#includes the grid in the cross validation and focuses on the RMSe as perf criterion\n",
    "search=GridSearchCV(estimator=GBR,param_grid=search_grid,scoring='neg_mean_squared_error',n_jobs=1,cv=cv) #calls my Kfolds defined above"
   ]
  },
  {
   "cell_type": "code",
   "execution_count": 66,
   "metadata": {},
   "outputs": [
    {
     "data": {
      "text/plain": [
       "GridSearchCV(cv=ShuffleSplit(n_splits=10, random_state=15, test_size=None, train_size=None),\n",
       "             estimator=GradientBoostingRegressor(), n_jobs=1,\n",
       "             param_grid={'learning_rate': [0.001, 0.01, 0.1],\n",
       "                         'max_depth': [1, 2, 4],\n",
       "                         'n_estimators': [500, 1000, 2000], 'random_state': [1],\n",
       "                         'subsample': [0.5, 0.75, 1]},\n",
       "             scoring='neg_mean_squared_error')"
      ]
     },
     "execution_count": 66,
     "metadata": {},
     "output_type": "execute_result"
    }
   ],
   "source": [
    "#fits my gradient boosting within the search grid with a 10th fold cv\n",
    "search.fit(X, y)"
   ]
  },
  {
   "cell_type": "code",
   "execution_count": 67,
   "metadata": {},
   "outputs": [
    {
     "data": {
      "text/plain": [
       "{'learning_rate': 0.01,\n",
       " 'max_depth': 4,\n",
       " 'n_estimators': 2000,\n",
       " 'random_state': 1,\n",
       " 'subsample': 0.5}"
      ]
     },
     "execution_count": 67,
     "metadata": {},
     "output_type": "execute_result"
    }
   ],
   "source": [
    "#looks for the best parameters\n",
    "search.best_params_"
   ]
  },
  {
   "cell_type": "code",
   "execution_count": 68,
   "metadata": {},
   "outputs": [
    {
     "data": {
      "text/plain": [
       "-0.07914502781811637"
      ]
     },
     "execution_count": 68,
     "metadata": {},
     "output_type": "execute_result"
    }
   ],
   "source": [
    "#def the best score: divides the error by 2\n",
    "search.best_score_ #very little effect"
   ]
  },
  {
   "cell_type": "code",
   "execution_count": 70,
   "metadata": {},
   "outputs": [
    {
     "data": {
      "text/plain": [
       "0.28821394970772174"
      ]
     },
     "execution_count": 70,
     "metadata": {},
     "output_type": "execute_result"
    }
   ],
   "source": [
    "GBR2=GradientBoostingRegressor(n_estimators=2000,learning_rate=0.01,subsample=.5,max_depth=4,random_state=1)\n",
    "scoreac=np.mean(cross_val_score(GBR2,X, y,cv=cv,n_jobs=1))\n",
    "scoreac #+2%"
   ]
  },
  {
   "cell_type": "code",
   "execution_count": 71,
   "metadata": {},
   "outputs": [
    {
     "data": {
      "text/plain": [
       "-0.07914502781811637"
      ]
     },
     "execution_count": 71,
     "metadata": {},
     "output_type": "execute_result"
    }
   ],
   "source": [
    "score=np.mean(cross_val_score(GBR2,X, y,scoring='neg_mean_squared_error',cv=cv,n_jobs=1))\n",
    "score"
   ]
  },
  {
   "cell_type": "code",
   "execution_count": null,
   "metadata": {},
   "outputs": [],
   "source": []
  }
 ],
 "metadata": {
  "kernelspec": {
   "display_name": "Python 3",
   "language": "python",
   "name": "python3"
  },
  "language_info": {
   "codemirror_mode": {
    "name": "ipython",
    "version": 3
   },
   "file_extension": ".py",
   "mimetype": "text/x-python",
   "name": "python",
   "nbconvert_exporter": "python",
   "pygments_lexer": "ipython3",
   "version": "3.8.5"
  }
 },
 "nbformat": 4,
 "nbformat_minor": 4
}
